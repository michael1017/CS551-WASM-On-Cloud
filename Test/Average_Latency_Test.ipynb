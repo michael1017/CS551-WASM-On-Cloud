{
  "nbformat": 4,
  "nbformat_minor": 0,
  "metadata": {
    "colab": {
      "provenance": [],
      "authorship_tag": "ABX9TyNmSW2Y0Bs50YstX+e6zDCR",
      "include_colab_link": true
    },
    "kernelspec": {
      "name": "python3",
      "display_name": "Python 3"
    },
    "language_info": {
      "name": "python"
    }
  },
  "cells": [
    {
      "cell_type": "markdown",
      "metadata": {
        "id": "view-in-github",
        "colab_type": "text"
      },
      "source": [
        "<a href=\"https://colab.research.google.com/github/michael1017/CS551-WASM-On-Cloud/blob/master/Test/Average_Latency_Test.ipynb\" target=\"_parent\"><img src=\"https://colab.research.google.com/assets/colab-badge.svg\" alt=\"Open In Colab\"/></a>"
      ]
    },
    {
      "cell_type": "code",
      "source": [
        "!git clone https://github.com/michael1017/CS551-WASM-On-Cloud.git\n",
        "!cd CS551-WASM-On-Cloud\n",
        "!pwd\n",
        "!ls -l\n"
      ],
      "metadata": {
        "colab": {
          "base_uri": "https://localhost:8080/"
        },
        "id": "-EGnscMpMI8-",
        "outputId": "a13a4d60-a1e6-4232-9fb1-4b38fdd31d97"
      },
      "execution_count": null,
      "outputs": [
        {
          "output_type": "stream",
          "name": "stdout",
          "text": [
            "Cloning into 'CS551-WASM-On-Cloud'...\n",
            "remote: Enumerating objects: 235, done.\u001b[K\n",
            "remote: Counting objects: 100% (130/130), done.\u001b[K\n",
            "remote: Compressing objects: 100% (96/96), done.\u001b[K\n",
            "remote: Total 235 (delta 40), reused 114 (delta 27), pack-reused 105\u001b[K\n",
            "Receiving objects: 100% (235/235), 68.08 MiB | 20.62 MiB/s, done.\n",
            "Resolving deltas: 100% (41/41), done.\n",
            "/content\n",
            "total 8\n",
            "drwxr-xr-x 7 root root 4096 Nov 29 22:26 CS551-WASM-On-Cloud\n",
            "drwxr-xr-x 1 root root 4096 Nov 28 14:27 sample_data\n"
          ]
        }
      ]
    },
    {
      "cell_type": "code",
      "execution_count": 4,
      "metadata": {
        "colab": {
          "base_uri": "https://localhost:8080/",
          "height": 644
        },
        "id": "hbAcUAK3MGe9",
        "outputId": "b5967b50-5d1c-409e-d1fe-7cf3a51892be"
      },
      "outputs": [
        {
          "output_type": "stream",
          "name": "stdout",
          "text": [
            "/content/CS551-WASM-On-Cloud/Test\n",
            "https://newtestresnet.azurewebsites.net/api/httptrigger?code=ZrcylRyiNsbpXhkGnrPxideuF-QFwGh2e_iYlRqc3qBiAzFu3wfK_Q%3D%3D\n",
            "1.300434623000001\n",
            "1.3109159511999962\n",
            "1.347830186850004\n",
            "1.2325725800666703\n",
            "1.4480972334749993\n",
            "1.4165720447800028\n",
            "1.315065891349999\n",
            "[(1, 1.300434623000001), (10, 1.3109159511999962), (20, 1.347830186850004), (30, 1.2325725800666703), (40, 1.4480972334749993), (50, 1.4165720447800028), (100, 1.315065891349999)]\n"
          ]
        },
        {
          "output_type": "display_data",
          "data": {
            "text/plain": [
              "<Figure size 1000x500 with 1 Axes>"
            ],
            "image/png": "[encoded data removed]"
          },
          "metadata": {}
        }
      ],
      "source": [
        "# Latency test\n",
        "# Curl request (100) avg time\n",
        "%cd CS551-WASM-On-Cloud/Test/\n",
        "import random\n",
        "import requests\n",
        "import binascii\n",
        "from time import perf_counter\n",
        "import os\n",
        "import base64\n",
        "import numpy as np\n",
        "import matplotlib.pyplot as plt\n",
        "\n",
        "\n",
        "plot_points = []\n",
        "def convert_image_to_base64(file_name):\n",
        "    base64_img = \"\"\n",
        "    with open(file_name, 'rb') as img_file:\n",
        "        # Read the image file\n",
        "        img_data = img_file.read()\n",
        "        # Encode image data to base64 string\n",
        "        base64_img = base64.b64encode(img_data).decode('utf-8')\n",
        "    return base64_img\n",
        "\n",
        "def convert_image_to_hex(file_name):\n",
        "    hex_value = \"\"\n",
        "    with open(file_name, 'rb') as f:\n",
        "        content = f.read()\n",
        "    hex_value = str(binascii.hexlify(content), encoding=\"utf-8\")\n",
        "    return hex_value\n",
        "\n",
        "def test_latency(num_requests, url_link):\n",
        "    avg_latency = 0\n",
        "    image_list = []\n",
        "    times = []\n",
        "    for (dir_path, dir_names, file_names) in os.walk(\"Images\"):\n",
        "        for file_name in file_names:\n",
        "            file_path = dir_path + \"/\" + file_name\n",
        "            if is_base64:\n",
        "                image_list.append(convert_image_to_base64(file_path))\n",
        "            else:\n",
        "                image_list.append(convert_image_to_hex(file_path))\n",
        "\n",
        "    for _ in range(num_requests):\n",
        "        image_object = random.choice(image_list)\n",
        "        # DO NOT DELETE\n",
        "        # query = f\"curl -X POST {url_link} -d {image_object}\"\n",
        "        # os.system(query)\n",
        "        start = perf_counter()\n",
        "        # FOR GCP AND AZURE DO THE FOLLOWING SAME IN SCALE TEST\n",
        "        # image_object = {\"img\": image_object}\n",
        "        # response = requests.post(url_link,json=image_object)\n",
        "\n",
        "        response = None\n",
        "        if is_gcp_test:\n",
        "            data = {\n",
        "                \"img\": image_object\n",
        "            }\n",
        "            headers = {\n",
        "                \"Content-Type\": \"application/json\"\n",
        "            }\n",
        "            response = requests.post(url_link, headers=headers, json=data)\n",
        "        else:\n",
        "            response = requests.post(url_link, data=image_object)\n",
        "        # print(response.text)\n",
        "        end = perf_counter()\n",
        "\n",
        "        times.append((end - start))\n",
        "        # avg_latency += (end - start)\n",
        "    avg_latency = sum(times)\n",
        "    # variance(times)\n",
        "    avg_latency /= num_requests\n",
        "    plot_points.append(avg_latency)\n",
        "    print(avg_latency)\n",
        "    return avg_latency\n",
        "\n",
        "\n",
        "# Function Ananlysis\n",
        "# Cost Analysis\n",
        "# Find cost in AWS, Azure, GCP\n",
        "def record_data(url_link):\n",
        "    return [(num_requests, test_latency(num_requests, url_link)) for num_requests in [1, 10, 20, 30, 40, 50, 100]]\n",
        "\n",
        "\n",
        "is_gcp_test = False\n",
        "is_base64 = False\n",
        "if __name__ == \"__main__\":\n",
        "    # REPLACE URL with GCP and AZURE\n",
        "    # url_link = \"https://xb28uuj612.execute-api.us-east-2.amazonaws.com/default/aws_lambda_classify_pytorch_wasm\"\n",
        "\n",
        "    # AWS WASM\n",
        "    # url_link = \"https://51wrp9c8ya.execute-api.us-east-1.amazonaws.com/default/classify\"\n",
        "\n",
        "    # AZURE MOBILENET\n",
        "    # url_link = \"https://classifytf2.azurewebsites.net/api/classify\"\n",
        "\n",
        "    # AZURE RESNET\n",
        "    url_link = \"https://newtestresnet.azurewebsites.net/api/httptrigger?code=ZrcylRyiNsbpXhkGnrPxideuF-QFwGh2e_iYlRqc3qBiAzFu3wfK_Q%3D%3D\"\n",
        "    is_base64 = True\n",
        "    is_gcp_test = True\n",
        "\n",
        "    # GCP MOBILENET\n",
        "    # url_link = \"https://us-central1-curious-context-406603.cloudfunctions.net/function-1\"\n",
        "    # is_gcp_test = True\n",
        "\n",
        "    print(url_link)\n",
        "    print(record_data(url_link))\n",
        "    num_users=['1', '10', '20', '30', '40', '50', '100']\n",
        "    fig = plt.figure(figsize = (10, 5))\n",
        "    plt.bar(num_users,plot_points)\n",
        "    plt.ylabel(\"Latency\")\n",
        "    plt.xlabel(\"No of Requests\")\n",
        "    plt.show()\n"
      ]
    }
  ]
}